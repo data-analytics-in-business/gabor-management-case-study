{
 "cells": [
  {
   "cell_type": "markdown",
   "id": "45bdf26d",
   "metadata": {},
   "source": [
    "# Introduction\n",
    "In this practical session we will investigate whether founder/family owned companies are better of worse managed than other firms, on average, *because* of their ownership. In other words, we want to investigate whether or not the fact that a company is owned by its founder, or their family members, has an effect on the quality of management. \n",
    "\n",
    "The result may be useful if a founder/family owned company is deciding whether to change ownership or not, or for an investor who is considering investing in a founder/family owned company.\n",
    "\n",
    "\n",
    "The dataset we use to perform analytics is a cross-section of 10,282 firms in manufacturing collected between 2004 and 2015 from 24 countries by the [World Management Survey](https://worldmanagementsurvey.org/data/dwms-public-sector/wms-methodology/).\n",
    "\n",
    "Let's load the data."
   ]
  },
  {
   "cell_type": "code",
   "execution_count": null,
   "id": "d6f80583",
   "metadata": {},
   "outputs": [],
   "source": [
    "import pandas as pd\n",
    "pd.set_option('mode.chained_assignment',None)\n",
    "df = pd.read_csv(\"https://osf.io/download/5tse9/\")\n",
    "df.head()"
   ]
  },
  {
   "cell_type": "markdown",
   "id": "bb3fa37c",
   "metadata": {},
   "source": [
    "In addition to the dataset, we can load some *meta-data* which explains each variable."
   ]
  },
  {
   "cell_type": "code",
   "execution_count": null,
   "id": "c1f688d0",
   "metadata": {},
   "outputs": [],
   "source": [
    "url = 'https://github.com/data-analytics-in-business/gabor-management-case-study/raw/main/data/VARIABLES_wms.csv'\n",
    "df_variables = pd.read_csv(url)\n",
    "df_variables.head(5)"
   ]
  },
  {
   "cell_type": "markdown",
   "id": "c325830b",
   "metadata": {},
   "source": [
    "# Outcome Variable\n",
    "Our outcome variable will be the *management* (`management`) score, which is the average of 18 scores collected using questions that attempt to measure the quality of specific management practices. Each score is measure on a scale of 1 to 5, where 1 is worst and 5 is best. \n",
    "\n",
    "Let's `describe` the distribution of management scores in the dataset."
   ]
  },
  {
   "cell_type": "code",
   "execution_count": null,
   "id": "0439cce0",
   "metadata": {},
   "outputs": [],
   "source": [
    "df['management'].describe()"
   ]
  },
  {
   "cell_type": "markdown",
   "id": "cbd7bd9d",
   "metadata": {},
   "source": [
    "**Question**: why do you think the max management score is not 5?"
   ]
  },
  {
   "cell_type": "markdown",
   "id": "75614dad",
   "metadata": {},
   "source": [
    "# Causal Variable\n",
    "We want our outcome variable to indicate whether the company was owned by founder/family or not.\n",
    "\n",
    "Let's begin by looking at the counts of the values in the `ownership` column "
   ]
  },
  {
   "cell_type": "code",
   "execution_count": null,
   "id": "67f83c22",
   "metadata": {},
   "outputs": [],
   "source": [
    "df['ownership'].value_counts()"
   ]
  },
  {
   "cell_type": "markdown",
   "id": "c152c874",
   "metadata": {},
   "source": [
    "We see there are 11 categories in total, some indicating whether the company was founder/family owned and some indicating other types of owners (e.g., dispersed shareholders, private individuals, government, etc).\n",
    "\n",
    "From these categories, let's create a binary variable that is 1 if the firm is founder/family owned and 0 otherwise.\n",
    "\n",
    "To do this, we will drop any rows where `ownership` is missing and use the `startswith` string method to check if each `ownership` value starts with `Founder`/`Family` or not, and map to an `int` value so the resulting values are 0 or 1."
   ]
  },
  {
   "cell_type": "code",
   "execution_count": null,
   "id": "37621940",
   "metadata": {},
   "outputs": [],
   "source": [
    "df.dropna(subset=['ownership'],inplace=True)\n",
    "df['foundfam_owned'] = df['ownership'].str.startswith(('Founder','Family')).astype(int)"
   ]
  },
  {
   "cell_type": "markdown",
   "id": "ce78d012",
   "metadata": {},
   "source": [
    "Let's look at the counts of the values in `foundfam_owned` to see how many examples we have in each of our created categories."
   ]
  },
  {
   "cell_type": "code",
   "execution_count": null,
   "id": "87e367f0",
   "metadata": {},
   "outputs": [],
   "source": [
    "df['foundfam_owned'].value_counts()"
   ]
  },
  {
   "cell_type": "markdown",
   "id": "d19f3ff7",
   "metadata": {},
   "source": [
    "**Question**: Do we have more or less founder/family owned companies in the dataset than companies with other types of ownership?"
   ]
  },
  {
   "cell_type": "markdown",
   "id": "f078713c",
   "metadata": {},
   "source": [
    "# Exercise\n",
    "Calculate the mean of the `management` scores for firms which are and are not founder/family owned.\n",
    "\n",
    "Is the mean `management` score higher/lower for firms which are founder/family owned? \n",
    "\n",
    "What's the difference between the two means? \n",
    "\n",
    "Is the difference a good estimate of the effect of being founder/family owned on management quality? Why?"
   ]
  },
  {
   "cell_type": "code",
   "execution_count": null,
   "id": "feca15a9",
   "metadata": {},
   "outputs": [],
   "source": [
    "# (SOLUTION)\n",
    "df.groupby(\"foundfam_owned\")[\"management\"].mean()"
   ]
  }
 ],
 "metadata": {
  "kernelspec": {
   "display_name": "Python 3 (ipykernel)",
   "language": "python",
   "name": "python3"
  },
  "language_info": {
   "codemirror_mode": {
    "name": "ipython",
    "version": 3
   },
   "file_extension": ".py",
   "mimetype": "text/x-python",
   "name": "python",
   "nbconvert_exporter": "python",
   "pygments_lexer": "ipython3",
   "version": "3.7.9"
  }
 },
 "nbformat": 4,
 "nbformat_minor": 5
}
