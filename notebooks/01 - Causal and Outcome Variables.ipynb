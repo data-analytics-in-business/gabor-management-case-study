{
 "cells": [
  {
   "cell_type": "markdown",
   "id": "45bdf26d",
   "metadata": {},
   "source": [
    "# Introduction\n",
    "In this practical session we will investigate whether founder/family owned companies are better of worse managed than other firms, on average, *because* of their ownership. In other words, we want to investigate whether or not the fact that a company is owned by its founder, or their family members, has an effect on the quality of management. \n",
    "\n",
    "The result may be useful if a founder/family owned company is deciding whether to change ownership or not, or for an investor who is considering investing in a founder/family owned company.\n",
    "\n",
    "\n",
    "The dataset we use to perform analytics is a cross-section of 10,282 firms in manufacturing collected between 2004 and 2015 from 24 countries by the [World Management Survey](https://worldmanagementsurvey.org/data/dwms-public-sector/wms-methodology/).\n",
    "\n",
    "Let's load the data."
   ]
  },
  {
   "cell_type": "code",
   "execution_count": 1,
   "id": "d6f80583",
   "metadata": {},
   "outputs": [
    {
     "data": {
      "text/html": [
       "<div>\n",
       "<style scoped>\n",
       "    .dataframe tbody tr th:only-of-type {\n",
       "        vertical-align: middle;\n",
       "    }\n",
       "\n",
       "    .dataframe tbody tr th {\n",
       "        vertical-align: top;\n",
       "    }\n",
       "\n",
       "    .dataframe thead th {\n",
       "        text-align: right;\n",
       "    }\n",
       "</style>\n",
       "<table border=\"1\" class=\"dataframe\">\n",
       "  <thead>\n",
       "    <tr style=\"text-align: right;\">\n",
       "      <th></th>\n",
       "      <th>firmid</th>\n",
       "      <th>wave</th>\n",
       "      <th>cty</th>\n",
       "      <th>country</th>\n",
       "      <th>sic</th>\n",
       "      <th>management</th>\n",
       "      <th>operations</th>\n",
       "      <th>monitor</th>\n",
       "      <th>target</th>\n",
       "      <th>people</th>\n",
       "      <th>...</th>\n",
       "      <th>aa_196</th>\n",
       "      <th>aa_197</th>\n",
       "      <th>aa_198</th>\n",
       "      <th>aa_199</th>\n",
       "      <th>aa_200</th>\n",
       "      <th>aa_201</th>\n",
       "      <th>aa_202</th>\n",
       "      <th>aa_203</th>\n",
       "      <th>aa_204</th>\n",
       "      <th>aa_205</th>\n",
       "    </tr>\n",
       "  </thead>\n",
       "  <tbody>\n",
       "    <tr>\n",
       "      <th>0</th>\n",
       "      <td>1</td>\n",
       "      <td>2010</td>\n",
       "      <td>us</td>\n",
       "      <td>United States</td>\n",
       "      <td>38.0</td>\n",
       "      <td>3.000000</td>\n",
       "      <td>2.0</td>\n",
       "      <td>2.8</td>\n",
       "      <td>3.6</td>\n",
       "      <td>3.000000</td>\n",
       "      <td>...</td>\n",
       "      <td>0.0</td>\n",
       "      <td>0.0</td>\n",
       "      <td>0.0</td>\n",
       "      <td>0.0</td>\n",
       "      <td>0.0</td>\n",
       "      <td>0.0</td>\n",
       "      <td>0.0</td>\n",
       "      <td>0.0</td>\n",
       "      <td>0.0</td>\n",
       "      <td>0.0</td>\n",
       "    </tr>\n",
       "    <tr>\n",
       "      <th>1</th>\n",
       "      <td>2</td>\n",
       "      <td>2004</td>\n",
       "      <td>us</td>\n",
       "      <td>United States</td>\n",
       "      <td>28.0</td>\n",
       "      <td>4.444445</td>\n",
       "      <td>4.5</td>\n",
       "      <td>4.6</td>\n",
       "      <td>4.4</td>\n",
       "      <td>4.333333</td>\n",
       "      <td>...</td>\n",
       "      <td>0.0</td>\n",
       "      <td>0.0</td>\n",
       "      <td>0.0</td>\n",
       "      <td>0.0</td>\n",
       "      <td>0.0</td>\n",
       "      <td>0.0</td>\n",
       "      <td>0.0</td>\n",
       "      <td>0.0</td>\n",
       "      <td>0.0</td>\n",
       "      <td>0.0</td>\n",
       "    </tr>\n",
       "    <tr>\n",
       "      <th>2</th>\n",
       "      <td>3</td>\n",
       "      <td>2004</td>\n",
       "      <td>us</td>\n",
       "      <td>United States</td>\n",
       "      <td>34.0</td>\n",
       "      <td>2.666667</td>\n",
       "      <td>2.5</td>\n",
       "      <td>2.4</td>\n",
       "      <td>2.4</td>\n",
       "      <td>3.166667</td>\n",
       "      <td>...</td>\n",
       "      <td>0.0</td>\n",
       "      <td>0.0</td>\n",
       "      <td>0.0</td>\n",
       "      <td>0.0</td>\n",
       "      <td>0.0</td>\n",
       "      <td>0.0</td>\n",
       "      <td>0.0</td>\n",
       "      <td>0.0</td>\n",
       "      <td>0.0</td>\n",
       "      <td>0.0</td>\n",
       "    </tr>\n",
       "    <tr>\n",
       "      <th>3</th>\n",
       "      <td>4</td>\n",
       "      <td>2004</td>\n",
       "      <td>us</td>\n",
       "      <td>United States</td>\n",
       "      <td>36.0</td>\n",
       "      <td>4.388889</td>\n",
       "      <td>3.0</td>\n",
       "      <td>4.6</td>\n",
       "      <td>4.6</td>\n",
       "      <td>4.500000</td>\n",
       "      <td>...</td>\n",
       "      <td>0.0</td>\n",
       "      <td>0.0</td>\n",
       "      <td>0.0</td>\n",
       "      <td>0.0</td>\n",
       "      <td>0.0</td>\n",
       "      <td>0.0</td>\n",
       "      <td>0.0</td>\n",
       "      <td>0.0</td>\n",
       "      <td>0.0</td>\n",
       "      <td>0.0</td>\n",
       "    </tr>\n",
       "    <tr>\n",
       "      <th>4</th>\n",
       "      <td>5</td>\n",
       "      <td>2004</td>\n",
       "      <td>us</td>\n",
       "      <td>United States</td>\n",
       "      <td>35.0</td>\n",
       "      <td>4.833333</td>\n",
       "      <td>5.0</td>\n",
       "      <td>4.8</td>\n",
       "      <td>4.8</td>\n",
       "      <td>4.833333</td>\n",
       "      <td>...</td>\n",
       "      <td>0.0</td>\n",
       "      <td>0.0</td>\n",
       "      <td>0.0</td>\n",
       "      <td>0.0</td>\n",
       "      <td>0.0</td>\n",
       "      <td>0.0</td>\n",
       "      <td>0.0</td>\n",
       "      <td>0.0</td>\n",
       "      <td>0.0</td>\n",
       "      <td>0.0</td>\n",
       "    </tr>\n",
       "  </tbody>\n",
       "</table>\n",
       "<p>5 rows × 245 columns</p>\n",
       "</div>"
      ],
      "text/plain": [
       "   firmid  wave cty        country   sic  management  operations  monitor  \\\n",
       "0       1  2010  us  United States  38.0    3.000000         2.0      2.8   \n",
       "1       2  2004  us  United States  28.0    4.444445         4.5      4.6   \n",
       "2       3  2004  us  United States  34.0    2.666667         2.5      2.4   \n",
       "3       4  2004  us  United States  36.0    4.388889         3.0      4.6   \n",
       "4       5  2004  us  United States  35.0    4.833333         5.0      4.8   \n",
       "\n",
       "   target    people  ...  aa_196  aa_197  aa_198  aa_199  aa_200  aa_201  \\\n",
       "0     3.6  3.000000  ...     0.0     0.0     0.0     0.0     0.0     0.0   \n",
       "1     4.4  4.333333  ...     0.0     0.0     0.0     0.0     0.0     0.0   \n",
       "2     2.4  3.166667  ...     0.0     0.0     0.0     0.0     0.0     0.0   \n",
       "3     4.6  4.500000  ...     0.0     0.0     0.0     0.0     0.0     0.0   \n",
       "4     4.8  4.833333  ...     0.0     0.0     0.0     0.0     0.0     0.0   \n",
       "\n",
       "   aa_202  aa_203  aa_204  aa_205  \n",
       "0     0.0     0.0     0.0     0.0  \n",
       "1     0.0     0.0     0.0     0.0  \n",
       "2     0.0     0.0     0.0     0.0  \n",
       "3     0.0     0.0     0.0     0.0  \n",
       "4     0.0     0.0     0.0     0.0  \n",
       "\n",
       "[5 rows x 245 columns]"
      ]
     },
     "execution_count": 1,
     "metadata": {},
     "output_type": "execute_result"
    }
   ],
   "source": [
    "import pandas as pd\n",
    "pd.set_option('mode.chained_assignment',None)\n",
    "df = pd.read_csv(\"https://osf.io/download/5tse9/\")\n",
    "df.head()"
   ]
  },
  {
   "cell_type": "markdown",
   "id": "07be02ee",
   "metadata": {},
   "source": [
    "In addition to the dataset, we can load some *meta-data* which explains each variable."
   ]
  },
  {
   "cell_type": "code",
   "execution_count": 2,
   "id": "ce8e19e0",
   "metadata": {},
   "outputs": [
    {
     "data": {
      "text/html": [
       "<div>\n",
       "<style scoped>\n",
       "    .dataframe tbody tr th:only-of-type {\n",
       "        vertical-align: middle;\n",
       "    }\n",
       "\n",
       "    .dataframe tbody tr th {\n",
       "        vertical-align: top;\n",
       "    }\n",
       "\n",
       "    .dataframe thead th {\n",
       "        text-align: right;\n",
       "    }\n",
       "</style>\n",
       "<table border=\"1\" class=\"dataframe\">\n",
       "  <thead>\n",
       "    <tr style=\"text-align: right;\">\n",
       "      <th></th>\n",
       "      <th>variable</th>\n",
       "      <th>type</th>\n",
       "      <th>information</th>\n",
       "    </tr>\n",
       "  </thead>\n",
       "  <tbody>\n",
       "    <tr>\n",
       "      <th>0</th>\n",
       "      <td>firmid</td>\n",
       "      <td>numeric</td>\n",
       "      <td>Unique firm ID</td>\n",
       "    </tr>\n",
       "    <tr>\n",
       "      <th>1</th>\n",
       "      <td>wave</td>\n",
       "      <td>numeric</td>\n",
       "      <td>Wave when interview was conducted</td>\n",
       "    </tr>\n",
       "    <tr>\n",
       "      <th>2</th>\n",
       "      <td>country</td>\n",
       "      <td>string</td>\n",
       "      <td>Country in which plant is located</td>\n",
       "    </tr>\n",
       "    <tr>\n",
       "      <th>3</th>\n",
       "      <td>management</td>\n",
       "      <td>numeric</td>\n",
       "      <td>Average of all management questions</td>\n",
       "    </tr>\n",
       "    <tr>\n",
       "      <th>4</th>\n",
       "      <td>operations</td>\n",
       "      <td>numeric</td>\n",
       "      <td>Average of lean1 &amp; lean2</td>\n",
       "    </tr>\n",
       "  </tbody>\n",
       "</table>\n",
       "</div>"
      ],
      "text/plain": [
       "     variable     type                          information\n",
       "0      firmid  numeric                       Unique firm ID\n",
       "1        wave  numeric    Wave when interview was conducted\n",
       "2     country   string    Country in which plant is located\n",
       "3  management  numeric  Average of all management questions\n",
       "4  operations  numeric             Average of lean1 & lean2"
      ]
     },
     "execution_count": 2,
     "metadata": {},
     "output_type": "execute_result"
    }
   ],
   "source": [
    "df_variables = pd.read_csv(\"../data/VARIABLES_wms.csv\")\n",
    "df_variables.head(5)"
   ]
  },
  {
   "cell_type": "markdown",
   "id": "c325830b",
   "metadata": {},
   "source": [
    "# Outcome Variable\n",
    "Our outcome variable will be the *management* (`management`) score, which is the average of 18 scores collected using questions that attempt to measure the quality of specific management practices. Each score is measure on a scale of 1 to 5, where 1 is worst and 5 is best. \n",
    "\n",
    "Let's `describe` the distribution of management scores in the dataset."
   ]
  },
  {
   "cell_type": "code",
   "execution_count": 3,
   "id": "0439cce0",
   "metadata": {},
   "outputs": [
    {
     "data": {
      "text/plain": [
       "count    10282.000000\n",
       "mean         2.883423\n",
       "std          0.656546\n",
       "min          1.000000\n",
       "25%          2.444444\n",
       "50%          2.888889\n",
       "75%          3.333333\n",
       "max          4.888889\n",
       "Name: management, dtype: float64"
      ]
     },
     "execution_count": 3,
     "metadata": {},
     "output_type": "execute_result"
    }
   ],
   "source": [
    "df['management'].describe()"
   ]
  },
  {
   "cell_type": "markdown",
   "id": "e4d55a25",
   "metadata": {},
   "source": [
    "**Question**: why do you think the max management score is not 5?"
   ]
  },
  {
   "cell_type": "markdown",
   "id": "9fee13db",
   "metadata": {},
   "source": [
    "# Causal Variable\n",
    "We want our outcome variable to indicate whether the company was owned by founder/family or not.\n",
    "\n",
    "Let's begin by looking at the counts of the values in the `ownership` column "
   ]
  },
  {
   "cell_type": "code",
   "execution_count": 4,
   "id": "67f83c22",
   "metadata": {},
   "outputs": [
    {
     "data": {
      "text/plain": [
       "Dispersed Shareholders            2745\n",
       "Private Individuals               2118\n",
       "Founder owned, founder CEO        1856\n",
       "Family owned, family CEO          1755\n",
       "Other                              527\n",
       "Private Equity/Venture Capital     353\n",
       "Family owned, external CEO         346\n",
       "Founder owned, external CEO        300\n",
       "Government                         170\n",
       "Family owned, CEO unknown           55\n",
       "Founder owned, CEO unknown          41\n",
       "Name: ownership, dtype: int64"
      ]
     },
     "execution_count": 4,
     "metadata": {},
     "output_type": "execute_result"
    }
   ],
   "source": [
    "df['ownership'].value_counts()"
   ]
  },
  {
   "cell_type": "markdown",
   "id": "c14fd786",
   "metadata": {},
   "source": [
    "We see there are 11 categories in total, some indicating whether the company was founder/family owned and some indicating other types of owners (e.g., dispersed shareholders, private individuals, government, etc).\n",
    "\n",
    "From these categories, let's create a binary variable that is 1 if the firm is founder/family owned and 0 otherwise.\n",
    "\n",
    "To do this, we will drop any rows where `ownership` is missing and use the `startswith` string method to check if each `ownership` value starts with `Founder`/`Family` or not, and map to an `int` value so the resulting values are 0 or 1."
   ]
  },
  {
   "cell_type": "code",
   "execution_count": 5,
   "id": "37621940",
   "metadata": {},
   "outputs": [],
   "source": [
    "df.dropna(subset=['ownership'],inplace=True)\n",
    "df['foundfam_owned'] = df['ownership'].str.startswith(('Founder','Family')).astype(int)"
   ]
  },
  {
   "cell_type": "markdown",
   "id": "49b16d86",
   "metadata": {},
   "source": [
    "Let's look at the counts of the values in `foundfam_owned` to see how many examples we have in each of our created categories."
   ]
  },
  {
   "cell_type": "code",
   "execution_count": 6,
   "id": "87e367f0",
   "metadata": {},
   "outputs": [
    {
     "data": {
      "text/plain": [
       "0    5913\n",
       "1    4353\n",
       "Name: foundfam_owned, dtype: int64"
      ]
     },
     "execution_count": 6,
     "metadata": {},
     "output_type": "execute_result"
    }
   ],
   "source": [
    "df['foundfam_owned'].value_counts()"
   ]
  },
  {
   "cell_type": "markdown",
   "id": "c61a833f",
   "metadata": {},
   "source": [
    "**Question**: Do we have more or less founder/family owned companies in the dataset than companies with other types of ownership?"
   ]
  },
  {
   "cell_type": "markdown",
   "id": "fb2e420e",
   "metadata": {},
   "source": [
    "# Exercise\n",
    "Calculate the mean of the `management` scores for firms which are and are not founder/family owned.\n",
    "\n",
    "Is the mean `management` score higher/lower for firms which are founder/family owned? \n",
    "\n",
    "What's the difference between the two means? \n",
    "\n",
    "Is the difference a good estimate of the effect of being founder/family owned on management quality? Why?"
   ]
  },
  {
   "cell_type": "code",
   "execution_count": 7,
   "id": "42300780",
   "metadata": {},
   "outputs": [],
   "source": [
    "# (SOLUTION)\n"
   ]
  }
 ],
 "metadata": {
  "kernelspec": {
   "display_name": "Python 3 (ipykernel)",
   "language": "python",
   "name": "python3"
  },
  "language_info": {
   "codemirror_mode": {
    "name": "ipython",
    "version": 3
   },
   "file_extension": ".py",
   "mimetype": "text/x-python",
   "name": "python",
   "nbconvert_exporter": "python",
   "pygments_lexer": "ipython3",
   "version": "3.7.9"
  }
 },
 "nbformat": 4,
 "nbformat_minor": 5
}
