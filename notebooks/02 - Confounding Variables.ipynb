{
 "cells": [
  {
   "cell_type": "markdown",
   "id": "79dcaba4",
   "metadata": {},
   "source": [
    "# Introduction\n",
    "To reduce bias in our estimate of the effect of the causal variable (`foundfam_owned`) on the outcome variable (`management`), we want to condition on (i.e. include in a regression model) all variables that might be a \"common cause\" of both the causal variable (`foundfam_owned`) and the outcome variable (`management`). These types of variables are named \"confounders\" or \"confounding variables\". In this notebook, we will present arguments for including confounding variables and will perform any preprocessing required to include them.\n",
    "\n",
    "Let's load in the data and create our causal variable `foundfam_owned` column again."
   ]
  },
  {
   "cell_type": "code",
   "execution_count": null,
   "id": "15e5109a",
   "metadata": {},
   "outputs": [],
   "source": [
    "import pandas as pd\n",
    "pd.set_option('mode.chained_assignment',None)\n",
    "df = pd.read_csv(\"https://osf.io/download/5tse9/\")\n",
    "\n",
    "df.dropna(subset=['ownership'],inplace=True)\n",
    "df['foundfam_owned'] = df['ownership'].str.startswith(('Founder','Family')).astype(int)"
   ]
  },
  {
   "cell_type": "markdown",
   "id": "473d2c7c",
   "metadata": {},
   "source": [
    "# Country\n",
    "We argue that the fact that firms are founder/family-owned could depend on cultural factors in society, and these same cultural factors may affect the quality of management practices. We can't measure these cultural factors directly, but we can use the county in which each firm is located as a \"proxy\" for them.\n",
    "\n",
    "Let's see which countries that example in our dataset are located in."
   ]
  },
  {
   "cell_type": "code",
   "execution_count": null,
   "id": "01cbef92",
   "metadata": {},
   "outputs": [],
   "source": [
    "df['country'].value_counts()"
   ]
  },
  {
   "cell_type": "markdown",
   "id": "a2773e8f",
   "metadata": {},
   "source": [
    "**Question**: Do you think this is a representative sample?"
   ]
  },
  {
   "cell_type": "markdown",
   "id": "ebd5adc1",
   "metadata": {},
   "source": [
    "# Industry\n",
    "We argue that some industries will produce companies that are more/less likely to be founder/family-owned. For example, development of products in some industries will require companies to secure more/less early investment from investors. We also argue that some industries are more/less developed in the quality of their management practices. Consequently, we claim that the type of industry a company is in could be considered a common cause of the causal variable (`foundfam_owned`) and the outcome variable (`management`).\n",
    "\n",
    "Let's look at the value counts for the `sic` (Standard Industrial Classification) column in the dataset."
   ]
  },
  {
   "cell_type": "code",
   "execution_count": null,
   "id": "cba6e659",
   "metadata": {},
   "outputs": [],
   "source": [
    "df['sic'].value_counts()"
   ]
  },
  {
   "cell_type": "markdown",
   "id": "8c7771bd",
   "metadata": {},
   "source": [
    "To make the categories more \"meaningful\" we are going to map them to a textual description using the following dictionary."
   ]
  },
  {
   "cell_type": "code",
   "execution_count": null,
   "id": "4845a895",
   "metadata": {},
   "outputs": [],
   "source": [
    "dict_sic = {\n",
    "    20:'food',#'Food and Kindred Products',\n",
    "    21:'tobacco',#'Tobacco Products',\n",
    "    22:'milled',#'Mill Products',\n",
    "    23:'apparel',#'Apparel, Finished Products from Fabrics & Similar Materials',\n",
    "    24:'lumber',#'Lumber and Wood Products, Except Furniture',\n",
    "    25:'furniture',#'Furniture and Fixtures',\n",
    "    26:'paper',#'Paper and Allied Products',\n",
    "    27:'printing',#'Printing, Publishing and Allied Industries',\n",
    "    28:'chemicals',#'Chemicals and Allied Products',\n",
    "    29:'petrol',#'Petroleum Refining and Related Industries',\n",
    "    30:'rubber',#'Rubber and Miscellaneous Plastic Products',\n",
    "    31:'leather',#'Leather and Leather Products',\n",
    "    32:'stone',#'Stone, Clay, Glass, and Concrete Products',\n",
    "    33:'pri_metal',#'Primary Metal Industries',\n",
    "    34:'fab_metal',#'Fabricated Metal Products',\n",
    "    35:'machinery',#'Industrial and Commercial Machinery and Computer Equipment',\n",
    "    36:'electronic',#'Electronic & Other Electrical Equipment & Components',\n",
    "    37:'transport',#'Transportation Equipment',\n",
    "    38:'measurement',#'Measuring, Photographic, Medical, & Optical Goods, & Clocks',\n",
    "    39:'misc_manuf',#'Miscellaneous Manufacturing Industries',\n",
    "}\n",
    "\n",
    "df.dropna(subset=['sic'],inplace=True)\n",
    "df['industry'] = df['sic'].astype(int).replace(dict_sic)\n",
    "df['industry'].value_counts()"
   ]
  },
  {
   "cell_type": "markdown",
   "id": "48d2e8e5",
   "metadata": {},
   "source": [
    "# Competition\n",
    "Finally, we argue that the strength of competition in the market may lead to a higher quality of management and, at the same time, maky make a firm a more desirable target for acquisition (i.e. less likley to remain founder/family owned). Consequently, we claim strength of competition in the market could be considered a common cause of the causal variable (`foundfam_owned`) and the outcome variable (`management`).\n",
    "\n",
    "Let's look at the value counts for the `competition` column in the dataset."
   ]
  },
  {
   "cell_type": "code",
   "execution_count": null,
   "id": "5d429039",
   "metadata": {},
   "outputs": [],
   "source": [
    "df[\"competition\"].value_counts()"
   ]
  },
  {
   "cell_type": "markdown",
   "id": "0e5bd90a",
   "metadata": {},
   "source": [
    "Let's clean up the string values and categorise as low, med, high to make the groups more evenly balanced."
   ]
  },
  {
   "cell_type": "code",
   "execution_count": null,
   "id": "1bc103b2",
   "metadata": {},
   "outputs": [],
   "source": [
    "dict_comp = {\n",
    "    '0 competitors':'low',\n",
    "    '1-4 competitors':'low',\n",
    "    '5-9 competitors':'med',\n",
    "    '10+ competitors':'high',\n",
    "}\n",
    "\n",
    "df[\"comp_strength\"] = df[\"competition\"].str.strip()\n",
    "df[\"comp_strength\"] = df[\"comp_strength\"].replace(dict_comp)\n",
    "df[\"comp_strength\"].value_counts()"
   ]
  },
  {
   "cell_type": "markdown",
   "id": "709eec0b",
   "metadata": {},
   "source": [
    "# Save data\n",
    "Finally let's save the data so we can load into another notebook."
   ]
  },
  {
   "cell_type": "code",
   "execution_count": null,
   "id": "88f2491d",
   "metadata": {},
   "outputs": [],
   "source": [
    "sample = df[['management','foundfam_owned','country','industry','comp_strength']]\n",
    "sample.to_csv('../data/sample_MGMT.csv', index=False)\n",
    "sample.head()"
   ]
  },
  {
   "cell_type": "markdown",
   "id": "81c7be88",
   "metadata": {},
   "source": [
    "# Exercise\n",
    "Expand the variables in the sample to include:\n",
    "* age of firm\n",
    "* number of employees\n",
    "* proportion of employees with college education\n",
    "\n",
    "Preprocess them in a way you think suitable."
   ]
  },
  {
   "cell_type": "code",
   "execution_count": null,
   "id": "d0d835bb",
   "metadata": {},
   "outputs": [],
   "source": [
    "# (SOLUTION)\n",
    "sample = df[['management','foundfam_owned','country','industry','comp_strength','firmage','emp_firm','degree_t']]\n",
    "sample.dropna(subset=['firmage','emp_firm','degree_t'],inplace=True)\n",
    "sample.info()\n",
    "\n",
    "# 9953 rows => 7735"
   ]
  }
 ],
 "metadata": {
  "kernelspec": {
   "display_name": "Python 3 (ipykernel)",
   "language": "python",
   "name": "python3"
  },
  "language_info": {
   "codemirror_mode": {
    "name": "ipython",
    "version": 3
   },
   "file_extension": ".py",
   "mimetype": "text/x-python",
   "name": "python",
   "nbconvert_exporter": "python",
   "pygments_lexer": "ipython3",
   "version": "3.7.9"
  }
 },
 "nbformat": 4,
 "nbformat_minor": 5
}
