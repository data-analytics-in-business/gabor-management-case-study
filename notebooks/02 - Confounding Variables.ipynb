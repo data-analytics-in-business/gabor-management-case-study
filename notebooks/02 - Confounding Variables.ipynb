{
 "cells": [
  {
   "cell_type": "markdown",
   "id": "e136aab3",
   "metadata": {},
   "source": [
    "# Introduction\n",
    "To reduce bias in our estimate of the effect of the causal variable (`foundfam_owned`) on the outcome variable (`management`), we want to condition on (i.e. include in a regression model) all variables that might be a \"common cause\" of both the causal variable (`foundfam_owned`) and the outcome variable (`management`). These types of variables are named \"confounders\" or \"confounding variables\". In this notebook, we will present arguments for including confounding variables and will perform any preprocessing required to include them.\n",
    "\n",
    "Let's load in the data and create our causal variable `foundfam_owned` column again."
   ]
  },
  {
   "cell_type": "code",
   "execution_count": 1,
   "id": "05ca046e",
   "metadata": {},
   "outputs": [],
   "source": [
    "import pandas as pd\n",
    "pd.set_option('mode.chained_assignment',None)\n",
    "df = pd.read_csv(\"https://osf.io/download/5tse9/\")\n",
    "\n",
    "df.dropna(subset=['ownership'],inplace=True)\n",
    "df['foundfam_owned'] = df['ownership'].str.startswith(('Founder','Family')).astype(int)"
   ]
  },
  {
   "cell_type": "markdown",
   "id": "6e3bf638",
   "metadata": {},
   "source": [
    "# Country\n",
    "We argue that the fact that firms are founder/family-owned could depend on cultural factors in society, and these same cultural factors may affect the quality of management practices. We can't measure these cultural factors directly, but we can use the county in which each firm is located as a \"proxy\" for them.\n",
    "\n",
    "Let's see which countries that example in our dataset are located in."
   ]
  },
  {
   "cell_type": "code",
   "execution_count": 2,
   "id": "c812cfb0",
   "metadata": {},
   "outputs": [
    {
     "data": {
      "text/plain": [
       "United States          947\n",
       "Great Britain          884\n",
       "China                  872\n",
       "Brazil                 814\n",
       "India                  707\n",
       "France                 484\n",
       "Australia              451\n",
       "Italy                  436\n",
       "Germany                424\n",
       "Canada                 418\n",
       "Greece                 416\n",
       "Argentina              414\n",
       "Chile                  410\n",
       "Mexico                 404\n",
       "Singapore              396\n",
       "Turkey                 332\n",
       "Sweden                 258\n",
       "Poland                 238\n",
       "Spain                  214\n",
       "Portugal               193\n",
       "Republic of Ireland    161\n",
       "New Zealand            150\n",
       "Japan                  124\n",
       "Northern Ireland       119\n",
       "Name: country, dtype: int64"
      ]
     },
     "execution_count": 2,
     "metadata": {},
     "output_type": "execute_result"
    }
   ],
   "source": [
    "df['country'].value_counts()"
   ]
  },
  {
   "cell_type": "markdown",
   "id": "e141f9be",
   "metadata": {},
   "source": [
    "**Question**: Do you think this is a representative sample?"
   ]
  },
  {
   "cell_type": "markdown",
   "id": "a8b32245",
   "metadata": {},
   "source": [
    "# Industry\n",
    "We argue that some industries will produce companies that are more/less likely to be founder/family-owned. For example, development of products in some industries will require companies to secure more/less early investment from investors. We also argue that some industries are more/less developed in the quality of their management practices. Consequently, we claim that the type of industry a company is in could be considered a common cause of the causal variable (`foundfam_owned`) and the outcome variable (`management`).\n",
    "\n",
    "Let's look at the value counts for the `sic` (Standard Industrial Classification) column in the dataset."
   ]
  },
  {
   "cell_type": "code",
   "execution_count": 3,
   "id": "978cf6d7",
   "metadata": {},
   "outputs": [
    {
     "data": {
      "text/plain": [
       "20.0    1283\n",
       "35.0     995\n",
       "28.0     943\n",
       "34.0     829\n",
       "36.0     724\n",
       "30.0     602\n",
       "37.0     572\n",
       "22.0     510\n",
       "33.0     502\n",
       "32.0     445\n",
       "26.0     430\n",
       "27.0     365\n",
       "23.0     362\n",
       "38.0     328\n",
       "24.0     317\n",
       "25.0     265\n",
       "39.0     249\n",
       "31.0     133\n",
       "29.0      81\n",
       "21.0      18\n",
       "Name: sic, dtype: int64"
      ]
     },
     "execution_count": 3,
     "metadata": {},
     "output_type": "execute_result"
    }
   ],
   "source": [
    "df['sic'].value_counts()"
   ]
  },
  {
   "cell_type": "markdown",
   "id": "563e2105",
   "metadata": {},
   "source": [
    "To make the categories more \"meaningful\" we are going to map them to a textual description using the following dictionary."
   ]
  },
  {
   "cell_type": "code",
   "execution_count": 4,
   "id": "5d5d493b",
   "metadata": {},
   "outputs": [
    {
     "data": {
      "text/plain": [
       "food           1283\n",
       "machinery       995\n",
       "chemicals       943\n",
       "fab_metal       829\n",
       "electronic      724\n",
       "rubber          602\n",
       "transport       572\n",
       "milled          510\n",
       "pri_metal       502\n",
       "stone           445\n",
       "paper           430\n",
       "printing        365\n",
       "apparel         362\n",
       "measurement     328\n",
       "lumber          317\n",
       "furniture       265\n",
       "misc_manuf      249\n",
       "leather         133\n",
       "petrol           81\n",
       "tobacco          18\n",
       "Name: industry, dtype: int64"
      ]
     },
     "execution_count": 4,
     "metadata": {},
     "output_type": "execute_result"
    }
   ],
   "source": [
    "dict_sic = {\n",
    "    20:'food',#'Food and Kindred Products',\n",
    "    21:'tobacco',#'Tobacco Products',\n",
    "    22:'milled',#'Mill Products',\n",
    "    23:'apparel',#'Apparel, Finished Products from Fabrics & Similar Materials',\n",
    "    24:'lumber',#'Lumber and Wood Products, Except Furniture',\n",
    "    25:'furniture',#'Furniture and Fixtures',\n",
    "    26:'paper',#'Paper and Allied Products',\n",
    "    27:'printing',#'Printing, Publishing and Allied Industries',\n",
    "    28:'chemicals',#'Chemicals and Allied Products',\n",
    "    29:'petrol',#'Petroleum Refining and Related Industries',\n",
    "    30:'rubber',#'Rubber and Miscellaneous Plastic Products',\n",
    "    31:'leather',#'Leather and Leather Products',\n",
    "    32:'stone',#'Stone, Clay, Glass, and Concrete Products',\n",
    "    33:'pri_metal',#'Primary Metal Industries',\n",
    "    34:'fab_metal',#'Fabricated Metal Products',\n",
    "    35:'machinery',#'Industrial and Commercial Machinery and Computer Equipment',\n",
    "    36:'electronic',#'Electronic & Other Electrical Equipment & Components',\n",
    "    37:'transport',#'Transportation Equipment',\n",
    "    38:'measurement',#'Measuring, Photographic, Medical, & Optical Goods, & Clocks',\n",
    "    39:'misc_manuf',#'Miscellaneous Manufacturing Industries',\n",
    "}\n",
    "\n",
    "df.dropna(subset=['sic'],inplace=True)\n",
    "df['industry'] = df['sic'].astype(int).replace(dict_sic)\n",
    "df['industry'].value_counts()"
   ]
  },
  {
   "cell_type": "markdown",
   "id": "4a392c81",
   "metadata": {},
   "source": [
    "# Competition\n",
    "Finally, we argue that the strength of competition in the market may lead to a higher quality of management and, at the same time, maky make a firm a more desirable target for acquisition (i.e. less likley to remain founder/family owned). Consequently, we claim strength of competition in the market could be considered a common cause of the causal variable (`foundfam_owned`) and the outcome variable (`management`).\n",
    "\n",
    "Let's look at the value counts for the `competition` column in the dataset."
   ]
  },
  {
   "cell_type": "code",
   "execution_count": 5,
   "id": "30c8d810",
   "metadata": {},
   "outputs": [
    {
     "data": {
      "text/plain": [
       "10+ competitors      5532\n",
       "  1-4 competitors    2238\n",
       " 5-9 competitors     2115\n",
       "   0 competitors       67\n",
       "Name: competition, dtype: int64"
      ]
     },
     "execution_count": 5,
     "metadata": {},
     "output_type": "execute_result"
    }
   ],
   "source": [
    "df[\"competition\"].value_counts()"
   ]
  },
  {
   "cell_type": "markdown",
   "id": "3b39583d",
   "metadata": {},
   "source": [
    "Let's clean up the string values and categorise as low, med, high to make the groups more evenly balanced."
   ]
  },
  {
   "cell_type": "code",
   "execution_count": 6,
   "id": "eb6ef330",
   "metadata": {},
   "outputs": [
    {
     "data": {
      "text/plain": [
       "high    5532\n",
       "low     2305\n",
       "med     2115\n",
       "Name: comp_strength, dtype: int64"
      ]
     },
     "execution_count": 6,
     "metadata": {},
     "output_type": "execute_result"
    }
   ],
   "source": [
    "dict_comp = {\n",
    "    '0 competitors':'low',\n",
    "    '1-4 competitors':'low',\n",
    "    '5-9 competitors':'med',\n",
    "    '10+ competitors':'high',\n",
    "}\n",
    "\n",
    "df[\"comp_strength\"] = df[\"competition\"].str.strip()\n",
    "df[\"comp_strength\"] = df[\"comp_strength\"].replace(dict_comp)\n",
    "df[\"comp_strength\"].value_counts()"
   ]
  },
  {
   "cell_type": "markdown",
   "id": "001714e2",
   "metadata": {},
   "source": [
    "# Save data\n",
    "Finally let's save the data so we can load into another notebook."
   ]
  },
  {
   "cell_type": "code",
   "execution_count": 7,
   "id": "c6422ebd",
   "metadata": {},
   "outputs": [
    {
     "data": {
      "text/html": [
       "<div>\n",
       "<style scoped>\n",
       "    .dataframe tbody tr th:only-of-type {\n",
       "        vertical-align: middle;\n",
       "    }\n",
       "\n",
       "    .dataframe tbody tr th {\n",
       "        vertical-align: top;\n",
       "    }\n",
       "\n",
       "    .dataframe thead th {\n",
       "        text-align: right;\n",
       "    }\n",
       "</style>\n",
       "<table border=\"1\" class=\"dataframe\">\n",
       "  <thead>\n",
       "    <tr style=\"text-align: right;\">\n",
       "      <th></th>\n",
       "      <th>management</th>\n",
       "      <th>foundfam_owned</th>\n",
       "      <th>country</th>\n",
       "      <th>industry</th>\n",
       "      <th>comp_strength</th>\n",
       "    </tr>\n",
       "  </thead>\n",
       "  <tbody>\n",
       "    <tr>\n",
       "      <th>0</th>\n",
       "      <td>3.000000</td>\n",
       "      <td>0</td>\n",
       "      <td>United States</td>\n",
       "      <td>measurement</td>\n",
       "      <td>low</td>\n",
       "    </tr>\n",
       "    <tr>\n",
       "      <th>1</th>\n",
       "      <td>4.444445</td>\n",
       "      <td>0</td>\n",
       "      <td>United States</td>\n",
       "      <td>chemicals</td>\n",
       "      <td>high</td>\n",
       "    </tr>\n",
       "    <tr>\n",
       "      <th>2</th>\n",
       "      <td>2.666667</td>\n",
       "      <td>0</td>\n",
       "      <td>United States</td>\n",
       "      <td>fab_metal</td>\n",
       "      <td>high</td>\n",
       "    </tr>\n",
       "    <tr>\n",
       "      <th>3</th>\n",
       "      <td>4.388889</td>\n",
       "      <td>1</td>\n",
       "      <td>United States</td>\n",
       "      <td>electronic</td>\n",
       "      <td>high</td>\n",
       "    </tr>\n",
       "    <tr>\n",
       "      <th>4</th>\n",
       "      <td>4.833333</td>\n",
       "      <td>0</td>\n",
       "      <td>United States</td>\n",
       "      <td>machinery</td>\n",
       "      <td>high</td>\n",
       "    </tr>\n",
       "  </tbody>\n",
       "</table>\n",
       "</div>"
      ],
      "text/plain": [
       "   management  foundfam_owned        country     industry comp_strength\n",
       "0    3.000000               0  United States  measurement           low\n",
       "1    4.444445               0  United States    chemicals          high\n",
       "2    2.666667               0  United States    fab_metal          high\n",
       "3    4.388889               1  United States   electronic          high\n",
       "4    4.833333               0  United States    machinery          high"
      ]
     },
     "execution_count": 7,
     "metadata": {},
     "output_type": "execute_result"
    }
   ],
   "source": [
    "sample = df[['management','foundfam_owned','country','industry','comp_strength']]\n",
    "sample.to_csv('../data/sample_MGMT.csv', index=False)\n",
    "sample.head()"
   ]
  },
  {
   "cell_type": "markdown",
   "id": "41735059",
   "metadata": {},
   "source": [
    "# Exercise\n",
    "Expand the variables in the sample to include:\n",
    "* age of firm\n",
    "* number of employees\n",
    "* proportion of employees with college education\n",
    "\n",
    "Preprocess them in a way you think suitable."
   ]
  },
  {
   "cell_type": "code",
   "execution_count": 8,
   "id": "1b31905c",
   "metadata": {},
   "outputs": [],
   "source": [
    "# (SOLUTION)"
   ]
  }
 ],
 "metadata": {
  "kernelspec": {
   "display_name": "Python 3 (ipykernel)",
   "language": "python",
   "name": "python3"
  },
  "language_info": {
   "codemirror_mode": {
    "name": "ipython",
    "version": 3
   },
   "file_extension": ".py",
   "mimetype": "text/x-python",
   "name": "python",
   "nbconvert_exporter": "python",
   "pygments_lexer": "ipython3",
   "version": "3.7.9"
  }
 },
 "nbformat": 4,
 "nbformat_minor": 5
}
