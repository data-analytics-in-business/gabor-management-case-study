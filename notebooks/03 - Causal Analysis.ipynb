{
 "cells": [
  {
   "cell_type": "markdown",
   "id": "13fb0349",
   "metadata": {},
   "source": [
    "# Introduction\n",
    "In this notebook, we are going to compare effect estimates using regression with and without conditioning on / controlling for confounders.\n",
    "\n",
    "Let's load in the dataset we created in the last notebook."
   ]
  },
  {
   "cell_type": "code",
   "execution_count": null,
   "id": "d0d70061",
   "metadata": {},
   "outputs": [],
   "source": [
    "import pandas as pd\n",
    "import statsmodels.formula.api as smf\n",
    "url = 'https://github.com/data-analytics-in-business/gabor-management-case-study/raw/main/data/sample_MGMT.csv'\n",
    "sample = pd.read_csv(url)\n",
    "sample.head()"
   ]
  },
  {
   "cell_type": "markdown",
   "id": "f63b48d1",
   "metadata": {},
   "source": [
    "# Regression without confounders\n",
    "To perform regression without confounders, we simple fit a regression model which models the expected value of our outcome variable (`management`) as a linear function of our causal variable (`foundfam_owned`).\n",
    "\n",
    "We can do that easily using Ordinary Least Squares (OLS) regression."
   ]
  },
  {
   "cell_type": "code",
   "execution_count": null,
   "id": "7e40626c",
   "metadata": {},
   "outputs": [],
   "source": [
    "formula1 = \"management ~ foundfam_owned\"\n",
    "ols1 = smf.ols(formula=formula1, data=sample).fit()\n",
    "ols1.summary()"
   ]
  },
  {
   "cell_type": "markdown",
   "id": "11150e8b",
   "metadata": {},
   "source": [
    "**Question**: In the summary printed out, we are looking for the coefficent of `foundfam_owned`. Can you see it? What value is it and what does it mean?"
   ]
  },
  {
   "cell_type": "markdown",
   "id": "eb308c60",
   "metadata": {},
   "source": [
    "# Regression with confounders\n",
    "To perform regression with confounders, we fit a regression model which models the expected value of our outcome variable (`management`) as a linear function of our causal variable (`foundfam_owned`) and our confounders `country`,`industry`, and `comp_strength`."
   ]
  },
  {
   "cell_type": "code",
   "execution_count": null,
   "id": "d76de554",
   "metadata": {},
   "outputs": [],
   "source": [
    "formula2 = \"management ~ foundfam_owned + country + industry + comp_strength\"\n",
    "ols2 = smf.ols(formula=formula2, data=sample).fit()\n",
    "ols2.summary()"
   ]
  },
  {
   "cell_type": "markdown",
   "id": "99d2b694",
   "metadata": {},
   "source": [
    "**Question**: What is the coefficent of `foundfam_owned` when we include confounders? Is it more or less than when we performed regression without including confounders?\n",
    "\n",
    "**Question**: Is our estimate of the effect getting smaller or larger as we include confounders? What does this tell us?"
   ]
  },
  {
   "cell_type": "markdown",
   "id": "24b0044b",
   "metadata": {},
   "source": [
    "# Exercise\n",
    "Experiment with different regression models to identify which of the confounders `country`,`industry`, or `comp_strength` leads to the biggest change in our estimate of the effect of `foundfam_owned` on `management`."
   ]
  },
  {
   "cell_type": "code",
   "execution_count": null,
   "id": "3d94ebee",
   "metadata": {},
   "outputs": [],
   "source": [
    "# (SOLUTION)\n",
    "formula2 = \"management ~ foundfam_owned + country\"\n",
    "#formula2 = \"management ~ foundfam_owned + industry\"\n",
    "#formula2 = \"management ~ foundfam_owned + comp_strength\"\n",
    "ols2 = smf.ols(formula=formula2, data=sample).fit()\n",
    "ols2.summary()"
   ]
  },
  {
   "cell_type": "markdown",
   "id": "db694cff",
   "metadata": {},
   "source": [
    "# Propensity Scoring\n",
    "Given the change in our estimate of the effect of `foundfam_owned` on `management` when performing regression with and without confounders, we may conclude that our causal variable is, indeed, dependent on our confounders `country`,`industry`, and `comp_strength`.\n",
    "\n",
    "We could model this relationship using logistic regression and then use the model for [propensity scoring](https://en.wikipedia.org/wiki/Propensity_score_matching).\n",
    "\n",
    "To do this, run the code below."
   ]
  },
  {
   "cell_type": "code",
   "execution_count": null,
   "id": "f34eebfb",
   "metadata": {},
   "outputs": [],
   "source": [
    "sample_x = sample[['foundfam_owned','country','industry','comp_strength']]\n",
    "formula_pscore1 = 'foundfam_owned ~ country + industry + comp_strength'\n",
    "log_reg_model = smf.logit(formula=formula_pscore1, data=sample_x)\n",
    "log_reg = log_reg_model.fit()\n",
    "log_reg.summary()"
   ]
  },
  {
   "cell_type": "markdown",
   "id": "305d37c1",
   "metadata": {},
   "source": [
    "**Question**: In which industry are founder/family owned firms least likely?\n",
    "\n",
    "**Question**: In which country are founder/family owned firms most likely?"
   ]
  },
  {
   "cell_type": "markdown",
   "id": "67fef1b1",
   "metadata": {},
   "source": [
    "# Exercise\n",
    "Return to the original dataset and explore which other variables you could include in a regression model estimating the effect of `foundfam_owned` on `management`. Explore which variables reduce/increase the estimate of the effect and discuss whether you believe they are common causes of `foundfam_owned` and `management` or not.\n",
    "\n",
    "**Note**: a full walk through of an analysis of the dataset used in these notebooks can be found in the [case study](https://gabors-data-analysis.com/casestudies/#ch21a-founderfamily-ownership-and-quality-of-management) in Chpater 21 of [Data analysis for business, economics, and policy](https://bris.on.worldcat.org/oclc/1250272914)."
   ]
  },
  {
   "cell_type": "code",
   "execution_count": null,
   "id": "53a3e631",
   "metadata": {},
   "outputs": [],
   "source": [
    "# (SOLUTION)\n"
   ]
  }
 ],
 "metadata": {
  "kernelspec": {
   "display_name": "Python 3 (ipykernel)",
   "language": "python",
   "name": "python3"
  },
  "language_info": {
   "codemirror_mode": {
    "name": "ipython",
    "version": 3
   },
   "file_extension": ".py",
   "mimetype": "text/x-python",
   "name": "python",
   "nbconvert_exporter": "python",
   "pygments_lexer": "ipython3",
   "version": "3.7.9"
  }
 },
 "nbformat": 4,
 "nbformat_minor": 5
}
